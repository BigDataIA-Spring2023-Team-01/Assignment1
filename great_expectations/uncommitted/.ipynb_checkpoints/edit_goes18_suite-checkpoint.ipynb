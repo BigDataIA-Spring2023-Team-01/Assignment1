{
 "cells": [
  {
   "cell_type": "markdown",
   "id": "85b67248",
   "metadata": {},
   "source": [
    "# Edit Your Expectation Suite\n",
    "Use this notebook to recreate and modify your expectation suite:\n",
    "\n",
    "**Expectation Suite Name**: `goes18_suite`\n"
   ]
  },
  {
   "cell_type": "code",
   "execution_count": null,
   "id": "1b57eb48",
   "metadata": {},
   "outputs": [],
   "source": [
    "import datetime\n",
    "\n",
    "import pandas as pd\n",
    "\n",
    "import great_expectations as gx\n",
    "import great_expectations.jupyter_ux\n",
    "from great_expectations.core.batch import BatchRequest\n",
    "from great_expectations.checkpoint import SimpleCheckpoint\n",
    "from great_expectations.exceptions import DataContextError\n",
    "\n",
    "context = gx.get_context()\n",
    "\n",
    "# Note that if you modify this batch request, you may save the new version as a .json file\n",
    "#  to pass in later via the --batch-request option\n",
    "batch_request = {'datasource_name': 'goes18', 'data_connector_name': 'default_inferred_data_connector_name', 'data_asset_name': 'folders_202302081811', 'limit': 1000}\n",
    "\n",
    "\n",
    "# Feel free to change the name of your suite here. Renaming this will not remove the other one.\n",
    "expectation_suite_name = \"goes18_suite\"\n",
    "try:\n",
    "    suite = context.get_expectation_suite(expectation_suite_name=expectation_suite_name)\n",
    "    print(f'Loaded ExpectationSuite \"{suite.expectation_suite_name}\" containing {len(suite.expectations)} expectations.')\n",
    "except DataContextError:\n",
    "    suite = context.create_expectation_suite(expectation_suite_name=expectation_suite_name)\n",
    "    print(f'Created ExpectationSuite \"{suite.expectation_suite_name}\".')\n",
    "\n",
    "\n",
    "validator = context.get_validator(\n",
    "    batch_request=BatchRequest(**batch_request),\n",
    "    expectation_suite_name=expectation_suite_name\n",
    ")\n",
    "column_names = [f'\"{column_name}\"' for column_name in validator.columns()]\n",
    "print(f\"Columns: {', '.join(column_names)}.\")\n",
    "validator.head(n_rows=5, fetch_all=False)"
   ]
  },
  {
   "cell_type": "markdown",
   "id": "ba24e522",
   "metadata": {},
   "source": [
    "## Create & Edit Expectations\n",
    "\n",
    "\n",
    "Add expectations by calling specific expectation methods on the `validator` object. They all begin with `.expect_` which makes autocompleting easy using tab.\n",
    "\n",
    "Because you selected interactive mode, you are now creating or editing an Expectation Suite with validator feedback from the sample batch of data that you specified (see `batch_request`).\n",
    "\n",
    "Note that if you select manual mode you may still create or edit an Expectation Suite directly, without feedback from the `validator`. See our documentation for more info and examples: [How to create a new Expectation Suite without a sample batch](https://docs.greatexpectations.io/docs/guides/expectations/how_to_create_and_edit_expectations_based_on_domain_knowledge_without_inspecting_data_directly).\n",
    "\n",
    "\n",
    "\n",
    "You can see all the available expectations in the **[expectation gallery](https://greatexpectations.io/expectations)**."
   ]
  },
  {
   "cell_type": "markdown",
   "id": "16f83344",
   "metadata": {},
   "source": [
    "### Table Expectation(s)"
   ]
  },
  {
   "cell_type": "code",
   "execution_count": null,
   "id": "ff52a66d",
   "metadata": {},
   "outputs": [],
   "source": [
    "\n",
    "validator.expect_table_row_count_to_be_between(max_value=4522, min_value=4522)"
   ]
  },
  {
   "cell_type": "code",
   "execution_count": null,
   "id": "5654edb8",
   "metadata": {},
   "outputs": [],
   "source": [
    "\n",
    "validator.expect_table_columns_to_match_set(column_set=['year', 'hour', 'day_of_year'])"
   ]
  },
  {
   "cell_type": "markdown",
   "id": "3069024f",
   "metadata": {},
   "source": [
    "### Column Expectation(s)"
   ]
  },
  {
   "cell_type": "markdown",
   "id": "8b9ab6e6",
   "metadata": {},
   "source": [
    "No column level expectations are in this suite. Feel free to add some here.\n",
    "\n",
    "They all begin with`validator.expect_column_...`.\n"
   ]
  },
  {
   "cell_type": "code",
   "execution_count": null,
   "id": "e905e8e9",
   "metadata": {},
   "outputs": [],
   "source": [
    "#YEAR Column validations\n",
    "validator.expect_column_distinct_values_to_be_in_set(column='year', value_set=[2022, 2023])\n",
    "validator.expect_column_values_to_not_be_null(column='year')"
   ]
  },
  {
   "cell_type": "code",
   "execution_count": null,
   "id": "d618426f",
   "metadata": {},
   "outputs": [],
   "source": [
    "#DAY_OF_YEAR Column validations\n",
    "validator.expect_column_values_to_not_be_null(column='day_of_year')\n",
    "validator.expect_column_values_to_be_between(column='day_of_year', max_value=366, min_value=0)"
   ]
  },
  {
   "cell_type": "code",
   "execution_count": null,
   "id": "35a1eb89",
   "metadata": {},
   "outputs": [],
   "source": [
    "#HOUR Column validations\n",
    "validator.expect_column_values_to_not_be_null(column='hour')\n",
    "validator.expect_column_values_to_be_between(column='hour', max_value=24, min_value=0)"
   ]
  },
  {
   "cell_type": "markdown",
   "id": "c6cd0df8",
   "metadata": {},
   "source": [
    "## Review & Save Your Expectations\n",
    "\n",
    "Let's save the expectation suite as a JSON file in the `great_expectations/expectations` directory of your project.\n",
    "\n",
    "Let's now rebuild your Data Docs, which helps you communicate about your data with both machines and humans."
   ]
  },
  {
   "cell_type": "code",
   "execution_count": null,
   "id": "7ee3fdec",
   "metadata": {},
   "outputs": [],
   "source": [
    "print(validator.get_expectation_suite(discard_failed_expectations=False))\n",
    "validator.save_expectation_suite(discard_failed_expectations=False)\n",
    "\n",
    "checkpoint_config = {\n",
    "    \"class_name\": \"SimpleCheckpoint\",\n",
    "    \"validations\": [\n",
    "        {\n",
    "            \"batch_request\": batch_request,\n",
    "            \"expectation_suite_name\": expectation_suite_name\n",
    "        }\n",
    "    ]\n",
    "}\n",
    "checkpoint = SimpleCheckpoint(\n",
    "    f\"{validator.active_batch_definition.data_asset_name}_{expectation_suite_name}\",\n",
    "    context,\n",
    "    **checkpoint_config\n",
    ")\n",
    "checkpoint_result = checkpoint.run()\n",
    "\n",
    "context.build_data_docs()\n",
    "\n",
    "validation_result_identifier = checkpoint_result.list_validation_result_identifiers()[0]\n",
    "context.open_data_docs(resource_identifier=validation_result_identifier)"
   ]
  }
 ],
 "metadata": {
  "kernelspec": {
   "display_name": "Python 3 (ipykernel)",
   "language": "python",
   "name": "python3"
  },
  "language_info": {
   "codemirror_mode": {
    "name": "ipython",
    "version": 3
   },
   "file_extension": ".py",
   "mimetype": "text/x-python",
   "name": "python",
   "nbconvert_exporter": "python",
   "pygments_lexer": "ipython3",
   "version": "3.10.6"
  }
 },
 "nbformat": 4,
 "nbformat_minor": 5
}
